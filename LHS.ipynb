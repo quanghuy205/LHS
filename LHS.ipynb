{
 "cells": [
  {
   "cell_type": "code",
   "execution_count": 4,
   "id": "8124c21c",
   "metadata": {},
   "outputs": [],
   "source": [
    "import numpy as np\n",
    "import matplotlib.pyplot as plt\n",
    "\n",
    "from smt.sampling_methods import LHS\n",
    "from scipy.spatial import distance\n"
   ]
  },
  {
   "cell_type": "code",
   "execution_count": 50,
   "id": "ab208225",
   "metadata": {},
   "outputs": [
    {
     "data": {
      "text/plain": [
       "0.1"
      ]
     },
     "execution_count": 50,
     "metadata": {},
     "output_type": "execute_result"
    }
   ],
   "source": [
    "iteration = 0\n",
    "#The interval of the domain in each dimension with shape nx x 2 (required)\n",
    "domain_interval = 1.0\n",
    "xlimits = np.array([[0.0, domain_interval], [0.0, domain_interval]])\n",
    "\n",
    "#set min_distance percentage\n",
    "min_percentage = 0.1\n",
    "min_dist = min_percentage * domain_interval\n",
    "\n",
    "min_dist\n",
    "    "
   ]
  },
  {
   "cell_type": "code",
   "execution_count": null,
   "id": "e40291f0",
   "metadata": {},
   "outputs": [],
   "source": [
    "\n",
    "isTerminate = False\n",
    "\n",
    "while isTerminate == False:\n",
    "    iteration += 1\n",
    "    sampling = LHS(xlimits=xlimits)\n",
    "    #number of samples\n",
    "    num = 50\n",
    "    x = sampling(num)\n",
    "    \n",
    "    p_dist = distance.pdist(x)\n",
    "    \n",
    "    isTerminate = True\n",
    "    \n",
    "    for dist in p_dist:\n",
    "        if (dist < min_dist):\n",
    "            isTerminate = False\n",
    "            break\n",
    "    \n",
    "    \n",
    "        \n",
    "    "
   ]
  },
  {
   "cell_type": "code",
   "execution_count": 46,
   "id": "f7250eae",
   "metadata": {},
   "outputs": [
    {
     "name": "stdout",
     "output_type": "stream",
     "text": [
      "275\n"
     ]
    }
   ],
   "source": [
    "print(iteration)"
   ]
  },
  {
   "cell_type": "code",
   "execution_count": 47,
   "id": "0b592aac",
   "metadata": {},
   "outputs": [
    {
     "name": "stdout",
     "output_type": "stream",
     "text": [
      "[0.31622777 0.29732137 0.74726167 ... 0.1        0.73348483 0.66272166]\n",
      "(1225,)\n"
     ]
    }
   ],
   "source": [
    "p_dist = distance.pdist(x)\n",
    "print (p_dist)\n",
    "print(p_dist.shape)"
   ]
  },
  {
   "cell_type": "code",
   "execution_count": 48,
   "id": "9ee3de59",
   "metadata": {},
   "outputs": [
    {
     "data": {
      "text/plain": [
       "0.5303346305878476"
      ]
     },
     "execution_count": 48,
     "metadata": {},
     "output_type": "execute_result"
    }
   ],
   "source": [
    "mean = np.mean(p_dist)\n",
    "mean"
   ]
  },
  {
   "cell_type": "code",
   "execution_count": 49,
   "id": "00e27680",
   "metadata": {},
   "outputs": [
    {
     "data": {
      "image/png": "[encoded data removed]",
      "text/plain": [
       "<Figure size 432x288 with 1 Axes>"
      ]
     },
     "metadata": {
      "needs_background": "light"
     },
     "output_type": "display_data"
    }
   ],
   "source": [
    "plt.plot(x[:, 0], x[:, 1], \"o\")\n",
    "plt.xlabel(\"x\")\n",
    "plt.ylabel(\"y\")\n",
    "plt.show()"
   ]
  },
  {
   "cell_type": "code",
   "execution_count": null,
   "id": "a6c9ccfa",
   "metadata": {},
   "outputs": [],
   "source": []
  }
 ],
 "metadata": {
  "kernelspec": {
   "display_name": "Python 3",
   "language": "python",
   "name": "python3"
  },
  "language_info": {
   "codemirror_mode": {
    "name": "ipython",
    "version": 3
   },
   "file_extension": ".py",
   "mimetype": "text/x-python",
   "name": "python",
   "nbconvert_exporter": "python",
   "pygments_lexer": "ipython3",
   "version": "3.6.9"
  }
 },
 "nbformat": 4,
 "nbformat_minor": 5
}
